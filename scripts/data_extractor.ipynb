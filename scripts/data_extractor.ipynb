{
 "cells": [
  {
   "cell_type": "code",
   "execution_count": 22,
   "metadata": {},
   "outputs": [],
   "source": [
    "from pdf2image import convert_from_path\n",
    "from pytesseract import image_to_string\n",
    "import pytesseract\n",
    "import os \n",
    "from PIL import Image"
   ]
  },
  {
   "cell_type": "code",
   "execution_count": 23,
   "metadata": {},
   "outputs": [],
   "source": [
    "POPPLER_PATH = r'C:\\Program Files (x86)\\poppler-23.05.0\\Library\\bin'\n",
    "FILES_PATH = os.path.join(os.getcwd(), '../files')\n",
    "pytesseract.pytesseract.tesseract_cmd = r\"C:\\Program Files\\Tesseract-OCR\\tesseract.exe\""
   ]
  },
  {
   "cell_type": "code",
   "execution_count": 24,
   "metadata": {},
   "outputs": [],
   "source": [
    "def convert_pdf_to_img(pdf_file):\n",
    "    return convert_from_path(pdf_file, poppler_path=POPPLER_PATH)\n",
    "\n",
    "def convert_image_to_text(file):\n",
    "    text = image_to_string(file)\n",
    "    return text\n",
    "\n",
    "def get_text_from_any_pdf(pdf_file):\n",
    "    images = convert_pdf_to_img(pdf_file)\n",
    "    final_text = \"\"\n",
    "    for pg, img in enumerate(images):\n",
    "        final_text += convert_image_to_text(img)\n",
    "    return final_text\n",
    "\n",
    "def get_text_from_any_image(image_file):\n",
    "    image = Image.open(image_file)\n",
    "    return convert_image_to_text(image)"
   ]
  },
  {
   "cell_type": "code",
   "execution_count": 25,
   "metadata": {},
   "outputs": [],
   "source": [
    "data = {}\n",
    "for folder in os.listdir(FILES_PATH):\n",
    "    for file in os.listdir(os.path.join(FILES_PATH, folder)):\n",
    "        if file.endswith('.pdf'):\n",
    "            data[file] = get_text_from_any_pdf(os.path.join(FILES_PATH, folder, file))\n",
    "        elif file.endswith('.jpg') or file.endswith('.png') or file.endswith('.jpeg'):\n",
    "            data[file] = get_text_from_any_image(os.path.join(FILES_PATH, folder, file))"
   ]
  },
  {
   "cell_type": "code",
   "execution_count": 26,
   "metadata": {},
   "outputs": [
    {
     "data": {
      "text/plain": [
       "dict_keys(['sample2.jpg', 'sample1.pdf', 'sample2.pdf', 'sample1.png'])"
      ]
     },
     "execution_count": 26,
     "metadata": {},
     "output_type": "execute_result"
    }
   ],
   "source": [
    "data.keys()"
   ]
  },
  {
   "cell_type": "code",
   "execution_count": 28,
   "metadata": {},
   "outputs": [],
   "source": [
    "for i in data:\n",
    "    with open(f'{i}.csv', 'w') as out:\n",
    "        out.write(data[i])"
   ]
  }
 ],
 "metadata": {
  "kernelspec": {
   "display_name": "venv",
   "language": "python",
   "name": "python3"
  },
  "language_info": {
   "codemirror_mode": {
    "name": "ipython",
    "version": 3
   },
   "file_extension": ".py",
   "mimetype": "text/x-python",
   "name": "python",
   "nbconvert_exporter": "python",
   "pygments_lexer": "ipython3",
   "version": "3.9.13"
  },
  "orig_nbformat": 4
 },
 "nbformat": 4,
 "nbformat_minor": 2
}
