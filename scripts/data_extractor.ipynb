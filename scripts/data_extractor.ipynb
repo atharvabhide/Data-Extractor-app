{
 "cells": [
  {
   "cell_type": "code",
   "execution_count": 17,
   "metadata": {},
   "outputs": [],
   "source": [
    "from pdf2image import convert_from_path\n",
    "from pytesseract import image_to_string\n",
    "import pytesseract\n",
    "import os \n",
    "from PIL import Image\n",
    "import re\n",
    "import pandas as pd"
   ]
  },
  {
   "cell_type": "code",
   "execution_count": 2,
   "metadata": {},
   "outputs": [],
   "source": [
    "POPPLER_PATH = r'C:\\Program Files (x86)\\poppler-23.05.0\\Library\\bin'\n",
    "FILES_PATH = os.path.join(os.getcwd(), '../files')\n",
    "pytesseract.pytesseract.tesseract_cmd = r\"C:\\Program Files\\Tesseract-OCR\\tesseract.exe\""
   ]
  },
  {
   "cell_type": "code",
   "execution_count": 3,
   "metadata": {},
   "outputs": [],
   "source": [
    "def convert_pdf_to_img(pdf_file):\n",
    "    return convert_from_path(pdf_file, poppler_path=POPPLER_PATH)\n",
    "\n",
    "def convert_image_to_text(file):\n",
    "    text = image_to_string(file)\n",
    "    return text\n",
    "\n",
    "def get_text_from_any_pdf(pdf_file):\n",
    "    images = convert_pdf_to_img(pdf_file)\n",
    "    final_text = \"\"\n",
    "    for pg, img in enumerate(images):\n",
    "        final_text += convert_image_to_text(img)\n",
    "    return final_text\n",
    "\n",
    "def get_text_from_any_image(image_file):\n",
    "    image = Image.open(image_file)\n",
    "    return convert_image_to_text(image)"
   ]
  },
  {
   "cell_type": "code",
   "execution_count": 11,
   "metadata": {},
   "outputs": [],
   "source": [
    "data = {}\n",
    "for folder in os.listdir(FILES_PATH):\n",
    "    for file in os.listdir(os.path.join(FILES_PATH, folder)):\n",
    "        if file.endswith('.pdf'):\n",
    "            data[file] = get_text_from_any_pdf(os.path.join(FILES_PATH, folder, file))\n",
    "        elif file.endswith('.jpg') or file.endswith('.png') or file.endswith('.jpeg'):\n",
    "            data[file] = get_text_from_any_image(os.path.join(FILES_PATH, folder, file))"
   ]
  },
  {
   "cell_type": "code",
   "execution_count": 12,
   "metadata": {},
   "outputs": [
    {
     "data": {
      "text/plain": [
       "dict_keys(['sample2.jpg', 'sample1.pdf', 'sample2.pdf', 'sample3.pdf', 'sample4.pdf', 'sample1.png'])"
      ]
     },
     "execution_count": 12,
     "metadata": {},
     "output_type": "execute_result"
    }
   ],
   "source": [
    "data.keys()"
   ]
  },
  {
   "cell_type": "code",
   "execution_count": 23,
   "metadata": {},
   "outputs": [
    {
     "data": {
      "text/plain": [
       "'Application Information\\n\\nFull Name: Jane Doe\\nPhone Number: 555 -0\\\\00\\nHome address: 19. Any Street, Any TOWN, OSA\\n\\nMailing Address: same as above\\n\\nEmployment Application\\n\\nStart Date | End Date Employer Name Position Held Reason for leaving\\n1/15/2009 | 6/30/2011 | Any Company Assistant baker relocated\\n\\n7h Joo [Sholzos| Example Corp.| Baker yerter oyag.\\n\\n| 8) 1512013) Dreserer AnyCompeny |néad beaver | NiA, current)\\n'"
      ]
     },
     "execution_count": 23,
     "metadata": {},
     "output_type": "execute_result"
    }
   ],
   "source": [
    "data['sample2.jpg']"
   ]
  },
  {
   "cell_type": "code",
   "execution_count": 27,
   "metadata": {},
   "outputs": [],
   "source": [
    "# jpg\n",
    "text = 'Application Information\\n\\nFull Name: Jane Doe\\nPhone Number: 555 -0\\\\00\\nHome address: 19. Any Street, Any TOWN, OSA\\n\\nMailing Address: same as above\\n\\nEmployment Application\\n\\nStart Date | End Date Employer Name Position Held Reason for leaving\\n1/15/2009 | 6/30/2011 | Any Company Assistant baker relocated\\n\\n7h Joo [Sholzos| Example Corp.| Baker yerter oyag.\\n\\n| 8) 1512013) Dreserer AnyCompeny |néad beaver | NiA, current)\\n'"
   ]
  },
  {
   "cell_type": "code",
   "execution_count": 36,
   "metadata": {},
   "outputs": [
    {
     "name": "stdout",
     "output_type": "stream",
     "text": [
      "Data extracted and saved to extracted_data.csv\n"
     ]
    }
   ],
   "source": [
    "# Extract key-value pairs from text\n",
    "info_pattern = r\"(?P<key>[A-Za-z ]+):\\s*(?P<value>[A-Za-z0-9 ,-]+)\"\n",
    "info_matches = re.findall(info_pattern, text)\n",
    "\n",
    "# Extract employment information\n",
    "employment_pattern = r\"(?P<start_date>\\d{1,2}/\\d{1,2}/\\d{4})\\s*\\|\\s*(?P<end_date>\\d{1,2}/\\d{1,2}/\\d{4})\\s*\\|\\s*(?P<employer>[A-Za-z0-9 ,-]+)\\s*\\|\\s*(?P<position>[A-Za-z0-9 ,-]+)\\s*\\|\\s*(?P<reason>[A-Za-z0-9 ,-]+)\"\n",
    "employment_matches = re.findall(employment_pattern, text)\n",
    "\n",
    "# Create dataframes from the extracted data\n",
    "info_df = pd.DataFrame(info_matches, columns=[\"Key\", \"Value\"])\n",
    "employment_df = pd.DataFrame(employment_matches, columns=[\"Start Date\", \"End Date\", \"Employer Name\", \"Position Held\", \"Reason for leaving\"])\n",
    "\n",
    "# Write dataframes to CSV file\n",
    "csv_filename = \"extracted_data.csv\"\n",
    "with open(csv_filename, \"w\", newline=\"\") as csvfile:\n",
    "    info_df.to_csv(csvfile, index=False)\n",
    "    csvfile.write(\"\\n\")\n",
    "    employment_df.to_csv(csvfile, index=False)\n",
    "\n",
    "print(\"Data extracted and saved to\", csv_filename)"
   ]
  }
 ],
 "metadata": {
  "kernelspec": {
   "display_name": "venv",
   "language": "python",
   "name": "python3"
  },
  "language_info": {
   "codemirror_mode": {
    "name": "ipython",
    "version": 3
   },
   "file_extension": ".py",
   "mimetype": "text/x-python",
   "name": "python",
   "nbconvert_exporter": "python",
   "pygments_lexer": "ipython3",
   "version": "3.9.13"
  },
  "orig_nbformat": 4
 },
 "nbformat": 4,
 "nbformat_minor": 2
}
